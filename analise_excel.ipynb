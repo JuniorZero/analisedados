{
 "cells": [
  {
   "cell_type": "markdown",
   "metadata": {},
   "source": [
    "CONEXÃO COM EXCEL"
   ]
  },
  {
   "cell_type": "code",
   "execution_count": 62,
   "metadata": {},
   "outputs": [
    {
     "name": "stdout",
     "output_type": "stream",
     "text": [
      "        Data    Código Funcionário   Produto    Marca  Valor\n",
      "0 2019-01-01  Q2L7D8X5     Gabriel    Chapéu     Azul   90.0\n",
      "1 2019-01-01  J1V2E1V9     Marcela    Chapéu     Azul    NaN\n",
      "2 2019-01-01  R7O1C8X6        Iago    Camisa   Branca  160.0\n",
      "3 2019-01-01  C1R7J7O5       Kelly  Camiseta  Amarela  100.0\n"
     ]
    }
   ],
   "source": [
    "import pandas as pd\n",
    "\n",
    "df_loja_roupas = pd.read_excel('Registro.Vendas.xlsx', sheet_name='BaseVendas')\n",
    "\n",
    "print(df_loja_roupas.head(4))"
   ]
  },
  {
   "cell_type": "markdown",
   "metadata": {},
   "source": [
    "PRÉ-ANALISE"
   ]
  },
  {
   "cell_type": "code",
   "execution_count": 64,
   "metadata": {},
   "outputs": [
    {
     "name": "stdout",
     "output_type": "stream",
     "text": [
      "Data           0\n",
      "Código         0\n",
      "Funcionário    0\n",
      "Produto        0\n",
      "Marca          0\n",
      "Valor          1\n",
      "dtype: int64\n",
      "             Valor\n",
      "count  3498.000000\n",
      "mean    105.923385\n",
      "std      50.201389\n",
      "min      30.000000\n",
      "25%      80.000000\n",
      "50%     100.000000\n",
      "75%     160.000000\n",
      "max     180.000000\n"
     ]
    }
   ],
   "source": [
    "a = df_loja_roupas.isnull().sum()\n",
    "b = df_loja_roupas.describe()\n",
    "df_loja_roupas[df_loja_roupas.isnull().T.any()]\n",
    "df_loja_roupas.boxplot(column=['Valor'])\n",
    "\n",
    "print(a)\n",
    "print(b)"
   ]
  },
  {
   "cell_type": "markdown",
   "metadata": {},
   "source": [
    "LIMPAR DADOS NULOS"
   ]
  },
  {
   "cell_type": "code",
   "execution_count": 65,
   "metadata": {},
   "outputs": [
    {
     "name": "stdout",
     "output_type": "stream",
     "text": [
      "0\n",
      "           Data    Código Funcionário   Produto     Marca  Valor\n",
      "0    2019-01-01  Q2L7D8X5     Gabriel    Chapéu      Azul   90.0\n",
      "1    2019-01-01  J1V2E1V9     Marcela    Chapéu      Azul      0\n",
      "2    2019-01-01  R7O1C8X6        Iago    Camisa    Branca  160.0\n",
      "3    2019-01-01  C1R7J7O5       Kelly  Camiseta   Amarela  100.0\n",
      "4    2019-01-01  K6M7G7J5     Marcela   Chinelo     Verde   30.0\n",
      "...         ...       ...         ...       ...       ...    ...\n",
      "3494 2019-12-31  N8T9O1Q4      Helena     Calça  Vermelha  180.0\n",
      "3495 2019-12-31  C6G1E7X4      Amanda     Calça  Vermelha  180.0\n",
      "3496 2019-12-31  U7U2M7J4       Fábio  Camiseta      Azul  100.0\n",
      "3497 2019-12-31  E2X6F4D9      Daniel   Bermuda      Azul  150.0\n",
      "3498 2019-12-31  M5K6V4P5       Fábio    Chapéu   Amarela   90.0\n",
      "\n",
      "[3499 rows x 6 columns]\n"
     ]
    }
   ],
   "source": [
    "df_loja_roupas.loc[df_loja_roupas.Funcionário.isnull(),'Funcionário'] = 'Sem Nome'\n",
    "df_loja_roupas.loc[df_loja_roupas.Código.isnull(),'Código'] = 'Código'\n",
    "df_loja_roupas.loc[df_loja_roupas.Data.isnull(),'Data'] = '1/1/2020'\n",
    "df_loja_roupas.loc[df_loja_roupas.Produto.isnull(),'Produto'] = 'Sem Nome'\n",
    "df_loja_roupas.loc[df_loja_roupas.Marca.isnull(),'Marca'] = 'Cor'\n",
    "c = df_loja_roupas.loc[df_loja_roupas.Valor.isnull(),'Valor'] = '0'\n",
    "print(c)\n",
    "print(df_loja_roupas)"
   ]
  },
  {
   "cell_type": "markdown",
   "metadata": {},
   "source": [
    "VERIFICAR DADOS DUPLICADOS"
   ]
  },
  {
   "cell_type": "code",
   "execution_count": 66,
   "metadata": {},
   "outputs": [
    {
     "name": "stdout",
     "output_type": "stream",
     "text": [
      "0\n"
     ]
    }
   ],
   "source": [
    "df_loja_roupas[df_loja_roupas.Funcionário.duplicated()]\n",
    "d = df_loja_roupas.Código.duplicated().sum()\n",
    "print(d)\n"
   ]
  },
  {
   "cell_type": "markdown",
   "metadata": {},
   "source": [
    "FORMATO DA DATA"
   ]
  },
  {
   "cell_type": "code",
   "execution_count": 67,
   "metadata": {},
   "outputs": [
    {
     "name": "stdout",
     "output_type": "stream",
     "text": [
      "0      2019-01-01\n",
      "1      2019-01-01\n",
      "2      2019-01-01\n",
      "3      2019-01-01\n",
      "4      2019-01-01\n",
      "          ...    \n",
      "3494   2019-12-31\n",
      "3495   2019-12-31\n",
      "3496   2019-12-31\n",
      "3497   2019-12-31\n",
      "3498   2019-12-31\n",
      "Name: Data, Length: 3499, dtype: datetime64[ns]\n"
     ]
    }
   ],
   "source": [
    "df_loja_roupas.Data = pd.to_datetime(df_loja_roupas.Data, format='%m/%d/%Y')\n",
    "print(df_loja_roupas.Data)"
   ]
  },
  {
   "cell_type": "markdown",
   "metadata": {},
   "source": [
    "GERANDO NOVOS DADOS"
   ]
  },
  {
   "cell_type": "code",
   "execution_count": 68,
   "metadata": {},
   "outputs": [
    {
     "name": "stdout",
     "output_type": "stream",
     "text": [
      "\n",
      "           Data    Código Funcionário   Produto     Marca  Valor  pagamento\n",
      "0    2019-01-01  Q2L7D8X5     Gabriel    Chapéu      Azul   90.0          1\n",
      "1    2019-01-01  J1V2E1V9     Marcela    Chapéu      Azul      0          1\n",
      "2    2019-01-01  R7O1C8X6        Iago    Camisa    Branca  160.0          1\n",
      "3    2019-01-01  C1R7J7O5       Kelly  Camiseta   Amarela  100.0          1\n",
      "4    2019-01-01  K6M7G7J5     Marcela   Chinelo     Verde   30.0          1\n",
      "...         ...       ...         ...       ...       ...    ...        ...\n",
      "3494 2019-12-31  N8T9O1Q4      Helena     Calça  Vermelha  180.0          1\n",
      "3495 2019-12-31  C6G1E7X4      Amanda     Calça  Vermelha  180.0          1\n",
      "3496 2019-12-31  U7U2M7J4       Fábio  Camiseta      Azul  100.0          1\n",
      "3497 2019-12-31  E2X6F4D9      Daniel   Bermuda      Azul  150.0          1\n",
      "3498 2019-12-31  M5K6V4P5       Fábio    Chapéu   Amarela   90.0          1\n",
      "\n",
      "[3499 rows x 7 columns]\n"
     ]
    }
   ],
   "source": [
    "df_loja_roupas['pagamento'] = 1\n",
    "df_loja_roupas.loc[df_loja_roupas.Data.isnull(), 'pagamento'] = 0\n",
    "\n",
    "print(df_loja_roupas)\n"
   ]
  },
  {
   "cell_type": "markdown",
   "metadata": {},
   "source": [
    "Agrupando Colunas"
   ]
  },
  {
   "cell_type": "code",
   "execution_count": 69,
   "metadata": {},
   "outputs": [
    {
     "name": "stdout",
     "output_type": "stream",
     "text": [
      "                          Vendas\n",
      "Produto  Marca    Valor         \n",
      "Bermuda  Amarela  150.0  11400.0\n",
      "         Azul     150.0  15000.0\n",
      "         Branca   150.0  17100.0\n",
      "         Verde    150.0  14550.0\n",
      "         Vermelha 150.0  12600.0\n",
      "Boné     Amarela  50.0    5000.0\n",
      "         Azul     50.0    3650.0\n",
      "         Branca   50.0    4300.0\n",
      "         Verde    50.0    4800.0\n",
      "         Vermelha 50.0    4100.0\n",
      "Calça    Amarela  180.0  15300.0\n",
      "         Azul     180.0  16380.0\n",
      "         Branca   180.0  18000.0\n",
      "         Verde    180.0  15120.0\n",
      "         Vermelha 180.0  14040.0\n",
      "Camisa   Amarela  160.0  14240.0\n",
      "         Azul     160.0  14080.0\n",
      "         Branca   160.0  11680.0\n",
      "         Verde    160.0  14240.0\n",
      "         Vermelha 160.0  16000.0\n",
      "Camiseta Amarela  100.0   8600.0\n",
      "         Azul     100.0   8200.0\n",
      "         Branca   100.0   8700.0\n",
      "         Verde    100.0   9700.0\n",
      "         Vermelha 100.0   8800.0\n",
      "Chapéu   Amarela  90.0    7560.0\n",
      "         Azul     90.0    8010.0\n",
      "                  0            0\n",
      "         Branca   90.0    7110.0\n",
      "         Verde    90.0    7380.0\n",
      "         Vermelha 90.0    7740.0\n",
      "Chinelo  Amarela  30.0    2520.0\n",
      "         Azul     30.0    2880.0\n",
      "         Branca   30.0    2550.0\n",
      "         Verde    30.0    2640.0\n",
      "         Vermelha 30.0    2070.0\n",
      "Saia     Amarela  80.0    6640.0\n",
      "         Azul     80.0    6960.0\n",
      "         Branca   80.0    6880.0\n",
      "         Verde    80.0    7200.0\n",
      "         Vermelha 80.0    6800.0\n"
     ]
    }
   ],
   "source": [
    "e = df_loja_roupas.groupby(['Produto', 'Marca', 'Valor']).agg(Vendas=('Valor', 'sum'))\n",
    "print(e)"
   ]
  },
  {
   "cell_type": "code",
   "execution_count": 70,
   "metadata": {},
   "outputs": [
    {
     "name": "stdout",
     "output_type": "stream",
     "text": [
      "    Produto  Quantidade Vendidas\n",
      "0   Bermuda                  471\n",
      "1      Boné                  437\n",
      "2     Calça                  438\n",
      "3    Camisa                  439\n",
      "4  Camiseta                  440\n",
      "5    Chapéu                  421\n",
      "6   Chinelo                  422\n",
      "7      Saia                  431\n"
     ]
    }
   ],
   "source": [
    "f = df_loja_roupas.groupby('Produto').size().reset_index(name='Quantidade Vendidas')\n",
    "print(f)"
   ]
  },
  {
   "cell_type": "code",
   "execution_count": 71,
   "metadata": {},
   "outputs": [
    {
     "name": "stdout",
     "output_type": "stream",
     "text": [
      "    Mes  Mes Venda\n",
      "0     1        322\n",
      "1     2        245\n",
      "2     3        289\n",
      "3     4        277\n",
      "4     5        329\n",
      "5     6        277\n",
      "6     7        293\n",
      "7     8        312\n",
      "8     9        265\n",
      "9    10        295\n",
      "10   11        305\n",
      "11   12        290\n"
     ]
    }
   ],
   "source": [
    "df_loja_roupas['Mes'] = df_loja_roupas['Data'].dt.month\n",
    "g = df_loja_roupas.groupby('Mes').size().reset_index(name='Mes Venda')\n",
    "print(g)"
   ]
  }
 ],
 "metadata": {
  "kernelspec": {
   "display_name": "Python 3",
   "language": "python",
   "name": "python3"
  },
  "language_info": {
   "codemirror_mode": {
    "name": "ipython",
    "version": 3
   },
   "file_extension": ".py",
   "mimetype": "text/x-python",
   "name": "python",
   "nbconvert_exporter": "python",
   "pygments_lexer": "ipython3",
   "version": "3.10.11"
  }
 },
 "nbformat": 4,
 "nbformat_minor": 2
}
